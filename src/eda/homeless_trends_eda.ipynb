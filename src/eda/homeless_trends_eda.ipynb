{
 "cells": [
  {
   "cell_type": "code",
   "execution_count": null,
   "metadata": {},
   "outputs": [],
   "source": [
    "import os\n",
    "import pandas as pd\n",
    "import numpy as np\n",
    "import plotly.io as pio\n",
    "import plotly.express as px\n",
    "import kaleido"
   ]
  },
  {
   "cell_type": "code",
   "execution_count": null,
   "metadata": {},
   "outputs": [],
   "source": [
    "# plotly parameters\n",
    "pio.templates.default = \"plotly_white\"\n",
    "\n",
    "layout_update_dict = dict(\n",
    "    showlegend=False,\n",
    "    font={'size': 20},\n",
    "    title={'font': {'size': 24}}\n",
    ")\n",
    "\n",
    "# generate plots folder if doesnt exist\n",
    "if not os.path.exists(\"plots\"):\n",
    "    os.mkdir(\"plots\")\n"
   ]
  },
  {
   "cell_type": "markdown",
   "metadata": {},
   "source": [
    "### Loading the data"
   ]
  },
  {
   "cell_type": "code",
   "execution_count": null,
   "metadata": {},
   "outputs": [],
   "source": [
    "sys.path.append(\"../\")\n",
    "from utils import get_db_conn"
   ]
  },
  {
   "cell_type": "code",
   "execution_count": null,
   "metadata": {},
   "outputs": [],
   "source": [
    "# connect to database\n",
    "db_conn = get_db_conn()"
   ]
  },
  {
   "cell_type": "markdown",
   "metadata": {},
   "source": [
    "##### Defining homelessness"
   ]
  },
  {
   "cell_type": "code",
   "execution_count": null,
   "metadata": {},
   "outputs": [],
   "source": [
    "sql_query =  \"\"\"\n",
    "-- list of all homeless individuals for every month-year\n",
    "with hl as (\n",
    "    select \n",
    "        client_hash, \n",
    "        prog_dt, \n",
    "        --count(program_key)\n",
    "        program_key\n",
    "    from clean.involvement_feed\n",
    "    where program_key in {hl_programs}\n",
    "    group by client_hash, prog_dt, program_key\n",
    "),\n",
    "\n",
    "-- program descriptions\n",
    "program_desc as (\n",
    "    select\n",
    "        program_key, \n",
    "        program_name,\n",
    "        program_desc\n",
    "    from lookup.program_feed\n",
    ")\n",
    "\n",
    "-- join with data on homeless individuals\n",
    "select\n",
    "    *\n",
    "from hl \n",
    "left join program_desc using(program_key) -- program info\n",
    ";\n",
    "\"\"\""
   ]
  },
  {
   "cell_type": "code",
   "execution_count": null,
   "metadata": {},
   "outputs": [],
   "source": [
    "# defining homelessness\n",
    "\n",
    "# load parameters\n",
    "hl_programs = \"(263, 29, 32, 33)\"\n",
    "\n",
    "sql_query = sql_query.format(\n",
    "    hl_programs = hl_programs)\n",
    "\n",
    "# check query\n",
    "#print(sql_query)\n",
    "\n",
    "#  load data\n",
    "df = pd.read_sql(sql_query, db_conn)"
   ]
  },
  {
   "cell_type": "code",
   "execution_count": null,
   "metadata": {},
   "outputs": [],
   "source": [
    "df.head()"
   ]
  },
  {
   "cell_type": "markdown",
   "metadata": {},
   "source": [
    "### Trends in homelessness over time"
   ]
  },
  {
   "cell_type": "code",
   "execution_count": null,
   "metadata": {},
   "outputs": [],
   "source": [
    "print(f\"Unique homeless clients ({min(df['prog_dt'])} to {max(df['prog_dt'])}): {len(df['client_hash'].unique())}\")"
   ]
  },
  {
   "cell_type": "code",
   "execution_count": null,
   "metadata": {},
   "outputs": [],
   "source": [
    "# homeless population over time\n",
    "x = (\n",
    "    df\n",
    "    .groupby(['prog_dt'])['client_hash']\n",
    "    .nunique()\n",
    "    .reset_index(name = 'n')\n",
    ")\n",
    "\n",
    "fig = px.line(\n",
    "    data_frame=x, \n",
    "    x = 'prog_dt',\n",
    "    y = 'n', \n",
    "    title=\"Utilization of homeless services over time\", \n",
    "    labels=dict(prog_dt=\"Date\", n=\"# unique clients\"),\n",
    "    )\n",
    "\n",
    "fig.update_layout(layout_update_dict)\n",
    "\n",
    "fig.update_yaxes(range=[0, 2000])\n",
    "fig.show()\n",
    "fig.write_image(\"plots/hl_trends.png\", engine = \"kaleido\")"
   ]
  },
  {
   "cell_type": "markdown",
   "metadata": {},
   "source": [
    "- There is **considerable fluctuation** in the number of individuals in homelessness over time. \n",
    "Although the number of homeless individuals has decreased between 2017 and 2021, there seems to have been a stark recent increase in the number of homeless individuals.\n",
    "\n",
    "- The number of homeless individuals peaks each winter. This may be because:\n",
    "\n",
    "    - Low temperatures during the winter months force homeless individuals into shelters, where they are registered\n",
    "    \n",
    "    - Some programs are administered on an annual basis, so that individuals who are homeless at any given point in time during the year only show up in our data on January. \n",
    "\n",
    "=> To investigate these dynamics, I disaggregate homelessness by `program_key`."
   ]
  },
  {
   "cell_type": "code",
   "execution_count": null,
   "metadata": {},
   "outputs": [],
   "source": [
    "# homeless population over time, by program key\n",
    "x = (\n",
    "    df\n",
    "    .groupby([\"prog_dt\", \"program_key\", 'program_name'])['client_hash']\n",
    "    .count()\n",
    "    .reset_index(name = \"n\")\n",
    ")\n",
    "\n",
    "fig = px.line(data_frame=x, \n",
    "    x = 'prog_dt', \n",
    "    y = 'n', \n",
    "    color = 'program_name',\n",
    "    title=\"Utilization of homeless services over time\", \n",
    "    labels=dict(prog_dt=\"Date\", n=\"# unique clients\"),\n",
    "    )\n",
    "\n",
    "fig.update_layout(layout_update_dict)\n",
    "fig.show()\n",
    "fig.write_image(\"plots/hl_program_trends.png\", engine = \"kaleido\")"
   ]
  },
  {
   "cell_type": "markdown",
   "metadata": {},
   "source": [
    "- During the winter months, the number of individuals interacting with emergency shelters and homeless services considerably increases. Probably best if our homelessness variable is something like *has been homeless in previous 12 months* to account for these fluctuations\n",
    "- Also interesting that some categories, notably **transitional housing** and **day shelters** are being phased out, whereas **street outreach** increases. **Emergency shelter** and **homeless services** remain fairly constant over time. Perhaps these are better (if arguably more restrictive) proxies to capture trends in homelessness over time.\n",
    "\n",
    "- Comparing 'homeless services' to the overall plot above, it also looks like most individuals who are homeless show up as being enrolled in 'homeless services'. See also histogram below"
   ]
  },
  {
   "cell_type": "code",
   "execution_count": null,
   "metadata": {},
   "outputs": [],
   "source": [
    "# how many programs is a homeless individual enrolled in in any given month?\n",
    "x = (\n",
    "    df\n",
    "    .groupby(['client_hash', 'prog_dt'])['program_key']\n",
    "    .count()\n",
    "    .reset_index(name = \"n\")\n",
    ")\n",
    "\n",
    "fig = px.histogram(\n",
    "    data_frame=x, \n",
    "    x = 'n', \n",
    "    title = \"Number of programs enrolled in in any given month\",\n",
    "    labels=dict(n=\"Number of enrolled programs\"),\n",
    ")\n",
    "\n",
    "fig.write_image(\"plots/prog_hist.png\", engine = 'kaleido')"
   ]
  }
 ],
 "metadata": {
  "kernelspec": {
   "display_name": "Python 3 (ipykernel)",
   "language": "python",
   "name": "python3"
  },
  "language_info": {
   "codemirror_mode": {
    "name": "ipython",
    "version": 3
   },
   "file_extension": ".py",
   "mimetype": "text/x-python",
   "name": "python",
   "nbconvert_exporter": "python",
   "pygments_lexer": "ipython3",
   "version": "3.10.4"
  },
  "vscode": {
   "interpreter": {
    "hash": "43369cd228aa974b7613bf148553ec85c0ec3106e12bb1b8e6fc9fdce8b41479"
   }
  }
 },
 "nbformat": 4,
 "nbformat_minor": 2
}
