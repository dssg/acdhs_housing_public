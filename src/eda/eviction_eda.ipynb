{
 "cells": [
  {
   "cell_type": "code",
   "execution_count": null,
   "metadata": {},
   "outputs": [],
   "source": [
    "import pandas as pd\n",
    "from sqlalchemy import create_engine\n",
    "import plotly.express as px\n",
    "from numpy import nan"
   ]
  },
  {
   "cell_type": "markdown",
   "metadata": {},
   "source": [
    "### Useful variables for data gen & plotting"
   ]
  },
  {
   "cell_type": "code",
   "execution_count": null,
   "metadata": {},
   "outputs": [],
   "source": [
    "# for plotly to make font sizes bigger\n",
    "layout_update_dict = dict(\n",
    "    showlegend=False,\n",
    "    font={'size': 20},\n",
    "    title={'font': {'size': 24}}\n",
    ")\n",
    "\n",
    "# for selecting the relevant columns for plotting\n",
    "cols_dict = {\n",
    "    'filing_yr': 'max',\n",
    "    'grantspossession': 'bool_or',\n",
    "    'judgement_for_tenant': 'bool_or',\n",
    "    'monthlyrentamount': 'max',\n",
    "    'totaljudgmentamount': 'max',\n",
    "    'casestatus': 'max',\n",
    "    'settled': 'bool_or',\n",
    "    'withdrawn': 'bool_or',\n",
    "    'dismissed': 'bool_or',\n",
    "    'claimamount': 'max',\n",
    "}\n",
    "\n",
    "def make_select_str(d):\n",
    "    return ', '.join(['{agg_fcn}({col_name}) as {col_name}'.format(agg_fcn=agg_fcn, col_name=col_name) for col_name, agg_fcn in d.items()])\n",
    "\n",
    "col_select_str = make_select_str(cols_dict)\n",
    "\n",
    "# connection to acdhs-housing db\n",
    "acdhs_engine = create_engine(\"postgresql:///acdhs-housing\")"
   ]
  },
  {
   "cell_type": "code",
   "execution_count": null,
   "metadata": {},
   "outputs": [],
   "source": [
    "query = \"\"\"select {}\n",
    "from clean.eviction e\n",
    "group by matter_id \n",
    "\"\"\".format(col_select_str)\n",
    "\n",
    "case_level_data = pd.read_sql(query, acdhs_engine)"
   ]
  },
  {
   "cell_type": "code",
   "execution_count": null,
   "metadata": {},
   "outputs": [],
   "source": [
    "case_level_data.summary()"
   ]
  },
  {
   "cell_type": "markdown",
   "metadata": {},
   "source": [
    "### How many evictions are there?"
   ]
  },
  {
   "cell_type": "code",
   "execution_count": null,
   "metadata": {},
   "outputs": [],
   "source": [
    "len(case_level_data)"
   ]
  },
  {
   "cell_type": "markdown",
   "metadata": {},
   "source": [
    "### How many per year? How many are won by tenants (red) vs landlords (purple)?"
   ]
  },
  {
   "cell_type": "code",
   "execution_count": null,
   "metadata": {},
   "outputs": [],
   "source": [
    "fig = px.histogram(case_level_data, x='filing_yr', title='Number of evictions filed per year', color='judgement_for_tenant', text_auto=True)\n",
    "fig.update_layout(layout_update_dict)\n",
    "fig.update_layout(xaxis_title='Filing year', yaxis_title='Number of evictions', bargap=0.2, yaxis_range=[0, 16000], width=1500, height=500)\n",
    "fig.show()"
   ]
  },
  {
   "cell_type": "markdown",
   "metadata": {},
   "source": [
    "### Of non-active cases, how many are pay-and-stay (red) vs possession (purple)?\n",
    "We look at non-active since possession is decided when the judge makes a decision"
   ]
  },
  {
   "cell_type": "code",
   "execution_count": null,
   "metadata": {},
   "outputs": [],
   "source": [
    "actually_tried_cases = case_level_data[(case_level_data.casestatus.isin(['Closed', 'Inactive'])) & (case_level_data.withdrawn == 0) & (case_level_data.dismissed == 0)]\n",
    "actually_tried_cases['grantspossession'] = actually_tried_cases.grantspossession.replace(nan, 'Unknown')\n",
    "fig = px.histogram(actually_tried_cases, x='filing_yr', title='Type of evictions filed per year', color='grantspossession', text_auto=True)\n",
    "fig.update_layout(layout_update_dict)\n",
    "fig.update_layout(xaxis_title='Filing year', yaxis_title='Number of evictions', bargap=0.2, yaxis_range=[0, 16000], width=1500, height=500)\n",
    "fig.show()"
   ]
  },
  {
   "cell_type": "markdown",
   "metadata": {},
   "source": [
    "### How much are landlords claiming they're owed?"
   ]
  },
  {
   "cell_type": "code",
   "execution_count": null,
   "metadata": {},
   "outputs": [],
   "source": [
    "case_level_data['grantspossession'] = case_level_data.grantspossession.replace(nan, 'Unknown')\n",
    "fig = px.histogram(case_level_data, x='claimamount', title='$ amount claimed per eviction', color='grantspossession')\n",
    "fig.update_layout(layout_update_dict)\n",
    "fig.update_layout(xaxis_title='Filing year', yaxis_title='Number of evictions')\n",
    "fig.show()"
   ]
  },
  {
   "cell_type": "markdown",
   "metadata": {},
   "source": [
    "### How much is the monthly rent for these places?"
   ]
  },
  {
   "cell_type": "code",
   "execution_count": null,
   "metadata": {},
   "outputs": [],
   "source": [
    "fig = px.histogram(case_level_data, x='monthlyrentamount', title='monthly rent amount per eviction', color='judgement_for_tenant', log_y=True, nbins=750)\n",
    "fig.update_layout(layout_update_dict)\n",
    "fig.update_layout(xaxis_title='Monthly rent', yaxis_title='Number of evictions (log scale)')\n",
    "fig.show()"
   ]
  },
  {
   "cell_type": "markdown",
   "metadata": {},
   "source": [
    "### The pandemic obviously affected evictions. Let's look at monthly data from 2020 onwards."
   ]
  },
  {
   "cell_type": "code",
   "execution_count": null,
   "metadata": {},
   "outputs": [],
   "source": [
    "count_booleans_agg = lambda col_name: 'count(case when {} then 1 end)'.format(col_name)\n",
    "\n",
    "cols_dict = { col_name: count_booleans_agg(col_name) for col_name in ('grantspossession', 'judgement_for_tenant', 'settled', 'withdrawn', 'dismissed' ) }\n",
    "\n",
    "def make_select_str(d):\n",
    "    return ', '.join(['{} as {}'.format(agg_fcn, col_name) for col_name, agg_fcn in d.items()])\n",
    "\n",
    "col_select_str = make_select_str(cols_dict)\n",
    "\n",
    "query = \"\"\" select extract(year from filingdt) as filing_yr, extract(month from filingdt) as filing_month, count(*), {}\n",
    "from clean.eviction e\n",
    "where extract(year from filingdt) >= 2020\n",
    "group by extract(year from filingdt), extract(month from filingdt)\"\"\".format(col_select_str)\n",
    "\n",
    "pandemic_data = pd.read_sql(query, acdhs_engine, parse_dates=['last_updated_ts'])\n",
    "pandemic_data['date'] = pd.to_datetime(pandemic_data.apply(lambda row: '{}-{:02d}-01'.format(int(row.filing_yr), int(row.filing_month)), axis=1))\n",
    "pandemic_data['pay-and-stay'] = pandemic_data['count'] - pandemic_data.grantspossession"
   ]
  },
  {
   "cell_type": "code",
   "execution_count": null,
   "metadata": {},
   "outputs": [],
   "source": [
    "fig = px.bar(pandemic_data, x='date', y=['grantspossession', 'pay-and-stay'], title='Type of evictions filed during the pandemic', text_auto=False)\n",
    "fig.update_layout(layout_update_dict)\n",
    "fig.update_layout(xaxis_title='Filing year', yaxis_title='Number of evictions')\n",
    "fig.update_xaxes(tickangle=45)\n",
    "fig.show()"
   ]
  },
  {
   "cell_type": "markdown",
   "metadata": {},
   "source": [
    "### We know there are all sorts of fees associated with evictions. What are they and how often do they come up?"
   ]
  },
  {
   "cell_type": "code",
   "execution_count": null,
   "metadata": {},
   "outputs": [],
   "source": [
    "query = \"\"\"select civiljudgmentcomponenttype, count(*)\n",
    "from clean.eviction e\n",
    "where casestatus = 'Closed'\n",
    "group by civiljudgmentcomponenttype \n",
    "\"\"\"\n",
    "\n",
    "payment_types_count = pd.read_sql(query, acdhs_engine)"
   ]
  },
  {
   "cell_type": "code",
   "execution_count": null,
   "metadata": {},
   "outputs": [],
   "source": [
    "fig = px.bar(payment_types_count, x='civiljudgmentcomponenttype', y='count', title='Frequency of different payment types', text_auto=False)\n",
    "fig.update_layout(layout_update_dict)\n",
    "fig.update_layout(xaxis_title='Payment types', yaxis_title='Count', height=800)\n",
    "fig.update_xaxes(tickangle=30)\n",
    "fig.show()"
   ]
  },
  {
   "cell_type": "code",
   "execution_count": null,
   "metadata": {},
   "outputs": [],
   "source": [
    "### If we were able to pay overdue rent before evictions are taken to court, how much could we possibly save?"
   ]
  },
  {
   "cell_type": "code",
   "execution_count": null,
   "metadata": {},
   "outputs": [],
   "source": [
    "query = \"\"\"select extract(year from filingdt) as filing_yr, sum(totaljudgmentamount) as totaljudgmentamount, sum(component_amount) as component_amount, sum(totaljudgmentamount) - sum(component_amount) as total_judgment_minus_overdue_rent\n",
    "from clean.eviction\n",
    "where civiljudgmentcomponenttype = 'Rent in Arrears' and casestatus='Closed'\n",
    "group by extract(year from filingdt)\"\"\"\n",
    "\n",
    "money_by_year_data = pd.read_sql(query, acdhs_engine)"
   ]
  },
  {
   "cell_type": "code",
   "execution_count": null,
   "metadata": {},
   "outputs": [],
   "source": [
    "fig = px.bar(money_by_year_data, x='filing_yr', y=['component_amount', 'totaljudgmentamount'], barmode='group', title='Rent in Arrears and Total Judgement Cost by Year', text_auto=False)\n",
    "fig.update_layout(layout_update_dict)\n",
    "fig.update_layout(xaxis_title='Filing year', yaxis_title='Amount (USD)')\n",
    "fig.show()"
   ]
  },
  {
   "cell_type": "code",
   "execution_count": null,
   "metadata": {},
   "outputs": [],
   "source": [
    "fig = px.bar(money_by_year_data, x='filing_yr', y='total_judgment_minus_overdue_rent', barmode='group', title='Total money judged - rent in arrears per year', text_auto=False)\n",
    "fig.update_layout(layout_update_dict)\n",
    "fig.update_layout(xaxis_title='Filing year', yaxis_title='Amount judged - claimed (USD)')\n",
    "fig.show()"
   ]
  },
  {
   "cell_type": "markdown",
   "metadata": {},
   "source": [
    "### What do we have in eviction landlord data?\n",
    "i.e. how many landlords are there?"
   ]
  },
  {
   "cell_type": "code",
   "execution_count": null,
   "metadata": {},
   "outputs": [],
   "source": [
    "query = 'select count(distinct participant_id) from clean.eviction_landlords'\n",
    "\n",
    "print(pd.read_sql(query, acdhs_engine)['count'].values[0], 'unique landlords for', len(case_level_data), 'eviction cases' )"
   ]
  },
  {
   "cell_type": "markdown",
   "metadata": {},
   "source": [
    "### Are the same landlords filing evictions over again?"
   ]
  },
  {
   "cell_type": "code",
   "execution_count": null,
   "metadata": {},
   "outputs": [],
   "source": [
    "query = \"\"\"select e1.participant_id, count(*), max(unique_displaynm) as unique_displaynm\n",
    "from (select e.matter_id, max(e.filingdt) as filingdt, max(el.participant_id) as participant_id, max(el.unique_displaynm) as unique_displaynm\n",
    "\tfrom clean.eviction e\n",
    "\tleft join clean.eviction_landlords el on e.matter_id = el.matter_id\n",
    "\tgroup by e.matter_id) as e1\n",
    "where participant_id is not null\n",
    "group by e1.participant_id\"\"\"\n",
    "\n",
    "landlords_frequency = pd.read_sql(query, acdhs_engine)"
   ]
  },
  {
   "cell_type": "code",
   "execution_count": null,
   "metadata": {},
   "outputs": [],
   "source": [
    "fig = px.histogram(landlords_frequency, x='count', title='frequency of evictions filed by landlords', log_y=True)\n",
    "fig.update_layout(layout_update_dict)\n",
    "fig.update_layout(xaxis_title='Monthly rent', yaxis_title='Number of evictions (log scale)')\n",
    "fig.show()"
   ]
  },
  {
   "cell_type": "markdown",
   "metadata": {},
   "source": [
    "### So who are the top landlords evicting so many people?\n",
    "\n",
    "Are they spread throughout the years, or are there spikes in evictions from these landlords?"
   ]
  },
  {
   "cell_type": "code",
   "execution_count": null,
   "metadata": {},
   "outputs": [],
   "source": [
    "for _, row in landlords_frequency.sort_values(['count'], ascending=False).head(10).iterrows():\n",
    "    print(row.unique_displaynm, 'has evicted', row['count'], 'people ( participant id', row.participant_id, ')')"
   ]
  },
  {
   "cell_type": "code",
   "execution_count": null,
   "metadata": {},
   "outputs": [],
   "source": [
    "# choosing one participant\n",
    "participant_id = 624600919\n",
    "\n",
    "query = \"\"\"select extract(year from filing_yr) as filing_yr, count(*)\n",
    "from clean.eviction_landlords el\n",
    "left join clean.eviction e on el.matter_id=e.matter_id \n",
    "where participant_id = {} \n",
    "group by extract(year from filing_yr)\n",
    "\"\"\".format(participant_id)\n",
    "\n",
    "landlord_by_yr = pd.read_sql(query, acdhs_engine)\n"
   ]
  },
  {
   "cell_type": "code",
   "execution_count": null,
   "metadata": {},
   "outputs": [],
   "source": [
    "fig = px.bar(landlord_by_yr, x='filing_yr', y='count', title='Type of evictions filed per year', text_auto=True)\n",
    "fig.update_layout(layout_update_dict)\n",
    "fig.update_layout(xaxis_title='Filing year', yaxis_title='Number of evictions', bargap=0.2, width=1500, height=500)\n",
    "fig.show()"
   ]
  }
 ],
 "metadata": {
  "kernelspec": {
   "display_name": "adchs-housing",
   "language": "python",
   "name": "acdhs-housing"
  },
  "language_info": {
   "codemirror_mode": {
    "name": "ipython",
    "version": 3
   },
   "file_extension": ".py",
   "mimetype": "text/x-python",
   "name": "python",
   "nbconvert_exporter": "python",
   "pygments_lexer": "ipython3",
   "version": "3.10.4"
  },
  "vscode": {
   "interpreter": {
    "hash": "31f2aee4e71d21fbe5cf8b01ff0e069b9275f58929596ceb00d14d90e3e16cd6"
   }
  }
 },
 "nbformat": 4,
 "nbformat_minor": 2
}
