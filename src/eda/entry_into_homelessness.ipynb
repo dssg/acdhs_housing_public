{
 "cells": [
  {
   "cell_type": "code",
   "execution_count": null,
   "metadata": {},
   "outputs": [],
   "source": [
    "import os\n",
    "import pandas as pd\n",
    "import numpy as np\n",
    "from sqlalchemy import create_engine\n",
    "import time\n",
    "import plotly.express as px\n",
    "import plotly.io as pio\n",
    "import datetime"
   ]
  },
  {
   "cell_type": "code",
   "execution_count": null,
   "metadata": {},
   "outputs": [],
   "source": [
    "# get credentials from environment variables\n",
    "user = os.getenv('PGUSER')\n",
    "password = os.getenv('PGPASSWORD')\n",
    "host = os.getenv('PGHOST')\n",
    "port = os.getenv('PGPORT')\n",
    "database = os.getenv('PGDATABASE')\n",
    "\n",
    "# configure connection to postgres\n",
    "engine = create_engine(\"postgresql://{}:{}@{}:{}/{}\".format(user, password, host, port, database))\n",
    "\n",
    "# open a connect\n",
    "db_conn = engine.connect()"
   ]
  },
  {
   "cell_type": "code",
   "execution_count": null,
   "metadata": {},
   "outputs": [],
   "source": [
    "#with open(\"/mnt/data/projects/acdhs-housing/jbaumann/acdhs_housing/src/eda/entry_into_homelessness.sql\", \"r\") as f:\n",
    "#    sql = f.read()\n",
    "#df = pd.read_sql(sql, db_conn)"
   ]
  },
  {
   "cell_type": "code",
   "execution_count": null,
   "metadata": {},
   "outputs": [],
   "source": [
    "#df = pd.read_sql(\"select * from modelling.entry_into_homelessness_50000;\", db_conn)\n",
    "df = pd.read_sql(\"select * from modelling.entry_into_homelessness_final;\", db_conn)"
   ]
  },
  {
   "cell_type": "code",
   "execution_count": null,
   "metadata": {},
   "outputs": [],
   "source": [
    "df"
   ]
  },
  {
   "cell_type": "code",
   "execution_count": null,
   "metadata": {},
   "outputs": [],
   "source": [
    "# plotly parameters\n",
    "pio.templates.default = \"plotly_white\"\n",
    "\n",
    "layout_update_dict = dict(\n",
    "    showlegend=True,\n",
    "    font={'size': 20},\n",
    "    title={'font': {'size': 24}}\n",
    ")"
   ]
  },
  {
   "cell_type": "code",
   "execution_count": null,
   "metadata": {},
   "outputs": [],
   "source": [
    "# select individuals for different min_days_not_hl\n",
    "# min_days_not_hl: how many day an individual need to be outside of any DHS homelessness system to count as entry into homelessness systems and not as already homeless\n",
    "# min_days_not_hl = 0 : we always consider all homeless individuals\n",
    "x = pd.DataFrame()\n",
    "#for min_days_not_hl in range(0,187,31):\n",
    "for min_days_not_hl in [0, 32, 186, 373]:\n",
    "    temp_df = (df[(df[\"days_since_last_hl\"] > min_days_not_hl) | (df[\"days_since_last_hl\"].isnull())]).groupby(['prog_dt']).size().reset_index(name='n')\n",
    "    temp_df[\"min_days_not_hl\"] = str(int(min_days_not_hl/31)) + \" months\"\n",
    "    if min_days_not_hl > 0:\n",
    "        # if we are not considering all homeless individuals, drop the first month, because they would all count as new entries\n",
    "        temp_df = temp_df[temp_df.prog_dt != min(df[\"prog_dt\"])] \n",
    "    \n",
    "    x = pd.concat([x, temp_df], axis=0, ignore_index=True)\n",
    "\n",
    "# now select first time homeless individuals\n",
    "x_first_time = (df[df[\"days_since_last_hl\"].isnull()]).groupby(['prog_dt']).size().reset_index(name='n')\n",
    "x_first_time[\"min_days_not_hl\"] = \"never\"\n",
    "x_first_time = x_first_time[x_first_time.prog_dt != min(df[\"prog_dt\"])]\n",
    "x = pd.concat([x, x_first_time], axis=0, ignore_index=True)"
   ]
  },
  {
   "cell_type": "code",
   "execution_count": null,
   "metadata": {},
   "outputs": [],
   "source": [
    "x"
   ]
  },
  {
   "cell_type": "code",
   "execution_count": null,
   "metadata": {},
   "outputs": [],
   "source": [
    "fig = px.line(\n",
    "    data_frame=x, \n",
    "    x = 'prog_dt',\n",
    "    y = 'n', \n",
    "    color = \"min_days_not_hl\",\n",
    "    title=\"Entry into homelessness over time<br><sup><i>by nr of days out of homelessness system to count as new</i></sup>\",\n",
    "\n",
    "    labels=dict(prog_dt=\"Date\", n=\"# clients\"),\n",
    "    )\n",
    "#fig.update_yaxes(range=[0, 600])\n",
    "fig.update_layout(layout_update_dict)\n",
    "fig.show()\n",
    "fig.write_image(\"plots/define_entry_into_homelessness.pdf\", engine = \"kaleido\")"
   ]
  },
  {
   "cell_type": "code",
   "execution_count": null,
   "metadata": {},
   "outputs": [],
   "source": []
  }
 ],
 "metadata": {
  "kernelspec": {
   "display_name": "Python 3.10.4 ('.venv': venv)",
   "language": "python",
   "name": "python3"
  },
  "language_info": {
   "codemirror_mode": {
    "name": "ipython",
    "version": 3
   },
   "file_extension": ".py",
   "mimetype": "text/x-python",
   "name": "python",
   "nbconvert_exporter": "python",
   "pygments_lexer": "ipython3",
   "version": "3.10.4"
  },
  "vscode": {
   "interpreter": {
    "hash": "43369cd228aa974b7613bf148553ec85c0ec3106e12bb1b8e6fc9fdce8b41479"
   }
  }
 },
 "nbformat": 4,
 "nbformat_minor": 2
}
