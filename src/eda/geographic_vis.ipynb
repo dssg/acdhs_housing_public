{
 "cells": [
  {
   "cell_type": "markdown",
   "id": "d167f264-15f7-4fb5-84b2-24444d470802",
   "metadata": {},
   "source": [
    "### Once we have the data, visualize it using plotly"
   ]
  },
  {
   "cell_type": "code",
   "execution_count": null,
   "id": "8c96b383-253d-4d4f-9340-86fd5c7e8a32",
   "metadata": {},
   "outputs": [],
   "source": [
    "import pandas as pd\n",
    "import plotly.express as px"
   ]
  },
  {
   "cell_type": "code",
   "execution_count": null,
   "id": "58d06751-1189-4c40-a8c6-07368493cc1d",
   "metadata": {},
   "outputs": [],
   "source": [
    "def aggregate_locations(df):\n",
    "    ''' get location counts from DataFrame\n",
    "        :param df:  Pandas DataFrame with column \"location\"\n",
    "        :return     DataFrame with location count data '''\n",
    "\n",
    "    return df.groupby(\n",
    "        ['address'],\n",
    "        as_index=True\n",
    "    ).agg({\n",
    "        'address': 'count',\n",
    "        'lat': 'mean',\n",
    "        'lon': 'mean'\n",
    "    }).rename(\n",
    "        columns={'address': 'count'}\n",
    "    ).reset_index()"
   ]
  },
  {
   "cell_type": "code",
   "execution_count": null,
   "id": "2e9db7c5-f3ea-45d1-ad5e-9d7d47dc6de1",
   "metadata": {},
   "outputs": [],
   "source": [
    "filename = '../../../client_address_crosswalk.csv'\n",
    "\n",
    "df = pd.read_csv(filename)\n",
    "\n",
    "# basic postprocessing\n",
    "agg_df = aggregate_locations(df)\n",
    "agg_df = agg_df[(agg_df.lat != 0) | (agg_df.lon != 0) & (agg_df.lon > -81)]"
   ]
  },
  {
   "cell_type": "code",
   "execution_count": null,
   "id": "c83a4ffd-aebd-4b02-958b-87d725dcf0dc",
   "metadata": {},
   "outputs": [],
   "source": [
    "# plot\n",
    "fig = px.density_mapbox(agg_df, lat=agg_df.lat, lon=agg_df.lon, z='count', radius=15, mapbox_style='stamen-terrain', hover_data=['lat', 'lon', 'count', 'address'])\n",
    "\n",
    "fig.update_layout(\n",
    "    autosize=False,\n",
    "    width=1300,\n",
    "    height=800,\n",
    "    coloraxis_showscale=False,\n",
    "    showlegend=False)\n",
    "\n",
    "fig.show()\n"
   ]
  },
  {
   "cell_type": "code",
   "execution_count": null,
   "id": "58cdffdd",
   "metadata": {},
   "outputs": [],
   "source": [
    "# plot\n",
    "fig = px.scatter_mapbox(agg_df, lat=agg_df.lat, lon=agg_df.lon, mapbox_style='stamen-terrain', opacity=0.3, hover_data=['lat', 'lon', 'count', 'address'])\n",
    "\n",
    "fig.update_layout(\n",
    "    autosize=False,\n",
    "    width=1300,\n",
    "    height=800,\n",
    "    coloraxis_showscale=False,\n",
    "    showlegend=False)\n",
    "\n",
    "fig.show()\n"
   ]
  },
  {
   "cell_type": "code",
   "execution_count": null,
   "id": "72daec8f-4538-4b84-8f8b-cd7383198c37",
   "metadata": {},
   "outputs": [],
   "source": []
  }
 ],
 "metadata": {
  "interpreter": {
   "hash": "43369cd228aa974b7613bf148553ec85c0ec3106e12bb1b8e6fc9fdce8b41479"
  },
  "kernelspec": {
   "display_name": "adchs-housing",
   "language": "python",
   "name": "acdhs-housing"
  },
  "language_info": {
   "codemirror_mode": {
    "name": "ipython",
    "version": 3
   },
   "file_extension": ".py",
   "mimetype": "text/x-python",
   "name": "python",
   "nbconvert_exporter": "python",
   "pygments_lexer": "ipython3",
   "version": "3.10.4"
  }
 },
 "nbformat": 4,
 "nbformat_minor": 5
}
