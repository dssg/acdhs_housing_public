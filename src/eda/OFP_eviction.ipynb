{
 "cells": [
  {
   "cell_type": "code",
   "execution_count": null,
   "metadata": {},
   "outputs": [],
   "source": [
    "import os\n",
    "import pandas as pd\n",
    "import numpy as np\n",
    "from sqlalchemy import create_engine\n",
    "import time\n",
    "import plotly.express as px\n",
    "import plotly.io as pio\n",
    "import datetime"
   ]
  },
  {
   "cell_type": "code",
   "execution_count": null,
   "metadata": {},
   "outputs": [],
   "source": [
    "# get credentials from environment variables\n",
    "user = os.getenv('PGUSER')\n",
    "password = os.getenv('PGPASSWORD')\n",
    "host = os.getenv('PGHOST')\n",
    "port = os.getenv('PGPORT')\n",
    "database = os.getenv('PGDATABASE')\n",
    "\n",
    "# configure connection to postgres\n",
    "engine = create_engine(\"postgresql://{}:{}@{}:{}/{}\".format(user, password, host, port, database))\n",
    "\n",
    "# open a connect\n",
    "db_conn = engine.connect()"
   ]
  },
  {
   "cell_type": "code",
   "execution_count": null,
   "metadata": {},
   "outputs": [],
   "source": [
    "sql_query =  \"\"\"\n",
    "\n",
    "\t\twith evictions as (\n",
    "\t\tselect \n",
    "\t\t\tmatter_id,\n",
    "\t\t\thashed_mci_uniq_id as client_hash,\n",
    "\t\t\tfilingdt,\n",
    "\t\t\tofp_issue_dt,\n",
    "\t\t\torder_for_possession\n",
    "\t\tfrom clean.eviction_client_matches ecm\n",
    "\t\tleft join clean.eviction using(matter_id)\n",
    "\t\tgroup by 1, 2, 3, 4,5\n",
    "\t\torder by matter_id\n",
    "\t\t),\n",
    "\t\t\n",
    "\t\t hmis as(\n",
    "\t\t\tselect \n",
    "\t\t\thashed_mci_uniq_id as client_hash ,\n",
    "\t\t\thud_project_type_id,\n",
    "\t\t\thud_project_type_desc,\n",
    "\t\t\tenrollment_start_dt,\n",
    "\t\t\tenrollment_end_dt\n",
    "\t\t\tfrom clean.hmis_details \n",
    "\t\t),\n",
    "\t\t\n",
    "\t\thud_joined as(\n",
    "\t\t\tselect \n",
    "\t\t\tcohort.client_hash ,\n",
    "\t\t\tcohort.as_of_date,\n",
    "\t\t\thmis.hud_project_type_id,\n",
    "\t\t\thmis.hud_project_type_desc,\n",
    "\t\t\thmis.enrollment_start_dt,\n",
    "\t\t\thmis.enrollment_end_dt,\n",
    "\t\t\te.ofp_issue_dt,\n",
    "\t\t\te.filingdt,\n",
    "\t\t\tDATE_PART('day', e.ofp_issue_dt::date::timestamp- e.filingdt::timestamp) as date_diff_filing_ofp, \n",
    "\t\t\tDATE_PART('day', e.ofp_issue_dt::date::timestamp- hmis.enrollment_start_dt::timestamp) as date_diff_hmis_ofp, \n",
    "\t\t\tcase when e.filingdt::timestamp < hmis.enrollment_start_dt::timestamp and e.ofp_issue_dt::timestamp > hmis.enrollment_start_dt::timestamp then 1 else 0 end hmis_between_filing_and_ofp\n",
    "\t\t\t----case when e.ofp_issue_dt is not null and cohort.as_of_date::date::timestamp > e.ofp_issue_dt::timestamp then DATE_PART('day', cohort.as_of_date::date::timestamp - e.ofp_issue_dt::timestamp) else 99999 end day_diff_ofp \n",
    "\t\t\tfrom pipeline.cohort as cohort\n",
    "\t\t\tleft join evictions e\n",
    "\t\t\t\ton cohort.client_hash = e.client_hash\n",
    "\t\t\t\tand e.filingdt < cohort.as_of_date and e.order_for_possession = true\n",
    "\t\t\tleft join hmis on cohort.client_hash = hmis.client_hash\n",
    "\t\t\t---group by cohort.client_hash , cohort.as_of_date \n",
    "\t\t)\n",
    "\t\t\n",
    "\tselect * from hud_joined\n",
    "    ;\n",
    "\"\"\""
   ]
  },
  {
   "cell_type": "code",
   "execution_count": null,
   "metadata": {},
   "outputs": [],
   "source": [
    "\n",
    "#  load data\n",
    "df = pd.read_sql(sql_query, db_conn)\n",
    "df.head()\n",
    "\n",
    "df"
   ]
  },
  {
   "cell_type": "code",
   "execution_count": null,
   "metadata": {},
   "outputs": [],
   "source": [
    "df_ev_ofp = df[(df['hmis_between_filing_and_ofp'] == 1)]\n",
    "print(df_ev_ofp['date_diff_filing_ofp'].mean())\n"
   ]
  },
  {
   "cell_type": "markdown",
   "metadata": {},
   "source": [
    "ok so need to have visualizations or computing: \n",
    "- most common programs + side by side barplots comparing most common programs for ppl that did them between filing and OFP, and those that didn't\n",
    "- average amount of time in those programs\n",
    "- number of distinct HMIS programs accessed where `hmis_between_filing_and_ofp =1` \n",
    "- relationship between `date_diff_filing_ofp` and `date_diff_hmis_ofp`"
   ]
  },
  {
   "cell_type": "code",
   "execution_count": null,
   "metadata": {},
   "outputs": [],
   "source": [
    "import plotly.express as px\n",
    "fig = px.histogram(df, x=\"hud_project_type_desc\", color=\"hmis_between_filing_and_ofp\",\n",
    "             height=800)\n",
    "             \n",
    "fig.update_xaxes(tickangle=45, tickfont=dict(color='crimson', size=14))\n",
    "fig.show()"
   ]
  },
  {
   "cell_type": "code",
   "execution_count": null,
   "metadata": {},
   "outputs": [],
   "source": [
    "# plot of days_between_filing_and_ofp + distinct programs accessed\n",
    "df_ev_ofp.groupby('hud_project_type_desc',as_index=False)['date_diff_hmis_ofp'].mean()\n",
    "\n",
    "\n",
    "#df_ev_ofp.groupby('hud_project_type_desc',as_index=False)['date_diff_hmis_ofp'].min()"
   ]
  },
  {
   "cell_type": "markdown",
   "metadata": {},
   "source": [
    "It seems that people try to access permanent supportive housing first closest to their OFP. Emergency shelter is the furthest out from the order of possesion/ closest to the eviction filing date, along with rapid rehousing and homelessness prevention services. "
   ]
  }
 ],
 "metadata": {
  "kernelspec": {
   "display_name": "Python 3.10.4 ('.venv': venv)",
   "language": "python",
   "name": "python3"
  },
  "language_info": {
   "codemirror_mode": {
    "name": "ipython",
    "version": 3
   },
   "file_extension": ".py",
   "mimetype": "text/x-python",
   "name": "python",
   "nbconvert_exporter": "python",
   "pygments_lexer": "ipython3",
   "version": "3.10.4"
  },
  "vscode": {
   "interpreter": {
    "hash": "43369cd228aa974b7613bf148553ec85c0ec3106e12bb1b8e6fc9fdce8b41479"
   }
  }
 },
 "nbformat": 4,
 "nbformat_minor": 2
}
